{
  "nbformat": 4,
  "nbformat_minor": 0,
  "metadata": {
    "colab": {
      "name": "Sorting_techniques.ipynb",
      "provenance": [],
      "collapsed_sections": [],
      "include_colab_link": true
    },
    "kernelspec": {
      "name": "python3",
      "display_name": "Python 3"
    },
    "language_info": {
      "name": "python"
    }
  },
  "cells": [
    {
      "cell_type": "markdown",
      "metadata": {
        "id": "view-in-github",
        "colab_type": "text"
      },
      "source": [
        "<a href=\"https://colab.research.google.com/github/vaishno2505/v/blob/main/Sorting_techniques.ipynb\" target=\"_parent\"><img src=\"https://colab.research.google.com/assets/colab-badge.svg\" alt=\"Open In Colab\"/></a>"
      ]
    },
    {
      "cell_type": "code",
      "metadata": {
        "id": "dyQfu3dM7_ao"
      },
      "source": [
        "\n",
        "\n",
        "import numpy as np"
      ],
      "execution_count": null,
      "outputs": []
    },
    {
      "cell_type": "code",
      "metadata": {
        "colab": {
          "base_uri": "https://localhost:8080/"
        },
        "id": "zpp_kv0T4MCq",
        "outputId": "5c062ca0-7494-4084-9813-142d8d794405"
      },
      "source": [
        "#bubble sort\n",
        "def bubble_sort(a):\n",
        "  length=len(a)-1\n",
        "  flag=False\n",
        "  while not flag:     #while(flag!=False),i.e if flag==False then, the loop terminates \n",
        "    flag=True\n",
        "    for i in range(0,length):\n",
        "      if a[i]>a[i+1]:\n",
        "        flag=False\n",
        "        a[i],a[i+1]=a[i+1],a[i]\n",
        "  return a\n",
        "np.random.seed()\n",
        "a=np.random.randint(1,50,10)\n",
        "print(f'Before Sorting:{a}')\n",
        "print(f'After sorting:{bubble_sort(a)}')"
      ],
      "execution_count": null,
      "outputs": [
        {
          "output_type": "stream",
          "text": [
            "Before Sorting:[14 13  1 23 36  2 49  2 29 17]\n",
            "After sorting:[ 1  2  2 13 14 17 23 29 36 49]\n"
          ],
          "name": "stdout"
        }
      ]
    },
    {
      "cell_type": "code",
      "metadata": {
        "colab": {
          "base_uri": "https://localhost:8080/"
        },
        "id": "5K4-Mg5gHbXN",
        "outputId": "8bcb637d-1d65-4af9-87bf-b1e19ede1179"
      },
      "source": [
        "#selection sort  #Method1\n",
        "def selection_sort(a):\n",
        "  for i in range(len(a)):         #last element of array will be sorted out automatically, so ignore the last element.(i.e;o to len(a)-1) \n",
        "    min=i                             #assuming the first element as minimum value\n",
        "    for j in range(i+1,len(a)):\n",
        "      if a[min]>a[j]:\n",
        "        min=j\n",
        "    if min!=i:\n",
        "      a[min],a[i]=a[i],a[min]\n",
        "  return a\n",
        "np.random.seed()\n",
        "a=np.random.randint(1,50,10)\n",
        "print(f'Before Sorting:{a}')\n",
        "print(f'After sorting:{selection_sort(a)}')         "
      ],
      "execution_count": null,
      "outputs": [
        {
          "output_type": "stream",
          "text": [
            "Before Sorting:[41 33 20 25 21 36 35  5 11  7]\n",
            "After sorting:[ 5  7 11 20 21 25 33 35 36 41]\n"
          ],
          "name": "stdout"
        }
      ]
    },
    {
      "cell_type": "code",
      "metadata": {
        "id": "clSLTgBRuiVL"
      },
      "source": [
        "#selection sort(Iterative method) #Method2\n",
        "def selection_sort(a):\n",
        "  for i in range(len(a)):\n",
        "    min=i\n",
        "    for j in range(i+1,len(a)):\n",
        "      if a[min]>a[j]:\n",
        "        min=j\n",
        "    a[i],a[min]=a[min],a[i]\n",
        "  return a\n",
        "a=[24, 4, 11, 18, 33, 12, 39, 29, 30,  3]\n",
        "print('Before Sorting:{}'.format(a))\n",
        "print('After Sorting:{}'.format(selection_sort(a)))"
      ],
      "execution_count": null,
      "outputs": []
    },
    {
      "cell_type": "code",
      "metadata": {
        "id": "RUvp5qbQOGWQ",
        "colab": {
          "base_uri": "https://localhost:8080/"
        },
        "outputId": "1babba30-3f82-477f-bdba-df85f43f89f3"
      },
      "source": [
        "#merge sort \n",
        "#divide-and-conquer paradigm\n",
        "def merge_sort(a):\n",
        "  if len(a)>1:\n",
        "    mid=len(a)//2\n",
        "    #dividing the array into two parts\n",
        "    left_a=a[:mid]\n",
        "    right_a=a[mid:]\n",
        "    #dividing the array into two parts recursively\n",
        "    merge_sort(left_a)\n",
        "    merge_sort(right_a)\n",
        "    #merging the arrays\n",
        "    i=0       #left array index\n",
        "    j=0       #right array index\n",
        "    k=0       #merged array index\n",
        "    while i<len(left_a) and j<len(right_a):\n",
        "      if left_a[i]<right_a[j]:\n",
        "        a[k]=left_a[i]\n",
        "        i+=1\n",
        "      else:\n",
        "        a[k]=right_a[j]\n",
        "        j+=1\n",
        "      k+=1\n",
        "      #Using while loops to fill the remaining elements\n",
        "    while i<len(left_a):\n",
        "      a[k]=left_a[i]\n",
        "      i+=1\n",
        "      k+=1\n",
        "    while j<len(right_a):\n",
        "      a[k]=right_a[j]\n",
        "      j+=1\n",
        "      k+=1\n",
        "  return a  \n",
        "a=[24, 4, 11, 18, 33, 12, 39, 29, 30,  3]\n",
        "print(f'Before Sorting:{a}')\n",
        "print(f'After Sorting:{merge_sort(a)}')"
      ],
      "execution_count": null,
      "outputs": [
        {
          "output_type": "stream",
          "text": [
            "Before Sorting:[24, 4, 11, 18, 33, 12, 39, 29, 30, 3]\n",
            "After Sorting:[3, 4, 11, 12, 18, 24, 29, 30, 33, 39]\n"
          ],
          "name": "stdout"
        }
      ]
    },
    {
      "cell_type": "code",
      "metadata": {
        "colab": {
          "base_uri": "https://localhost:8080/"
        },
        "id": "rF3aHPSTpUu8",
        "outputId": "4d0f0301-0c71-4071-b13f-6c6ec45d2340"
      },
      "source": [
        "#insertion sort\n",
        "def insertion_sort(a):\n",
        "  for i in range(1,len(a)):\n",
        "    key=a[i]\n",
        "    while a[i-1]>key and i>0:\n",
        "      a[i],a[i-1]=a[i-1],a[i]\n",
        "      i=i-1\n",
        "  return a\n",
        "np.random.seed()\n",
        "a=np.random.randint(1,50,10)\n",
        "print(f'Before Sorting:{a}')\n",
        "print(f'After sorting:{insertion_sort(a)}')"
      ],
      "execution_count": null,
      "outputs": [
        {
          "output_type": "stream",
          "text": [
            "Before Sorting:[23 45 44 38 18 34  1 40  1  2]\n",
            "After sorting:[ 1  1  2 18 23 34 38 40 44 45]\n"
          ],
          "name": "stdout"
        }
      ]
    },
    {
      "cell_type": "code",
      "metadata": {
        "colab": {
          "base_uri": "https://localhost:8080/"
        },
        "id": "QYGEGVafrNFJ",
        "outputId": "aef2890d-7731-4f6a-9cb7-d535470d146e"
      },
      "source": [
        "#quick sort\n",
        "def quick_sort(a):\n",
        "  if len(a)<=1:\n",
        "    return a\n",
        "  else:\n",
        "    pivot=a.pop()         #pops out the last element in an array\n",
        "  right_side=[]\n",
        "  left_side=[]\n",
        "  for i in range(0,len(a)):\n",
        "    if a[i]>pivot:\n",
        "      right_side.append(a[i])\n",
        "    else:\n",
        "      left_side.append(a[i])\n",
        "  return quick_sort(left_side)+[pivot]+quick_sort(right_side)\n",
        "a=[24, 4, 11, 18, 33, 12, 39, 29, 30,  3]\n",
        "print(f'Before Sorting:{a}')\n",
        "print(f'After Sorting:{quick_sort(a)}')"
      ],
      "execution_count": null,
      "outputs": [
        {
          "output_type": "stream",
          "text": [
            "Before Sorting:[24, 4, 11, 18, 33, 12, 39, 29, 30, 3]\n",
            "After Sorting:[3, 4, 11, 12, 18, 24, 29, 30, 33, 39]\n"
          ],
          "name": "stdout"
        }
      ]
    },
    {
      "cell_type": "code",
      "metadata": {
        "colab": {
          "base_uri": "https://localhost:8080/"
        },
        "id": "nzuZwtuKL_qJ",
        "outputId": "9b67c474-5117-4361-868f-d784c3cbd733"
      },
      "source": [
        "#Bucket sort    #Method 1:\n",
        "def bucket_sort(l):\n",
        "  max_value=max(l)        #finding the maximum value in the list\n",
        "  size=max_value/len(l)   #finding the size of each element in the list(array)\n",
        "  bucket_list=[]\n",
        "  for i in range(len(l)):       # Create n empty buckets where n is equal to the length of the input list  \n",
        "    bucket_list.append([])\n",
        "  for i in range(len(l)):\n",
        "    j=int(l[i]*size)\n",
        "    if j != len(l):\n",
        "      bucket_list[j].append(l[i])\n",
        "    else:\n",
        "      bucket_list[len(l)-1].append(l[i])\n",
        "  for k in range(len(l)):\n",
        "    bucket_list[k]=sorted(bucket_list[k])\n",
        "  output=[]\n",
        "  for i in range(len(l)):\n",
        "    output=output+bucket_list[i]\n",
        "  return output\n",
        "l=[0.24, 0.40, 0.11, 0.18, 0.33, 0.12, 0.39, 0.29, 0.30,  0.34]\n",
        "print(f'Before Sorting:{l}')\n",
        "print(f'After Sorting:{bucket_sort(l)}')"
      ],
      "execution_count": null,
      "outputs": [
        {
          "output_type": "stream",
          "text": [
            "Before Sorting:[0.24, 0.4, 0.11, 0.18, 0.33, 0.12, 0.39, 0.29, 0.3, 0.34]\n",
            "After Sorting:[0.11, 0.12, 0.18, 0.24, 0.29, 0.3, 0.33, 0.34, 0.39, 0.4]\n"
          ],
          "name": "stdout"
        }
      ]
    },
    {
      "cell_type": "code",
      "metadata": {
        "colab": {
          "base_uri": "https://localhost:8080/"
        },
        "id": "gvJdVM6toeDI",
        "outputId": "9a96c977-de0f-4fe9-d90f-9bc98793bc9e"
      },
      "source": [
        "#Bucket sort    #Method 2:\n",
        "def bucket_sort(a):\n",
        "  bucket=[]\n",
        "  for i in range(len(l)):      # Create empty buckets  \n",
        "    bucket.append([])\n",
        "  for j in a:             # Insert elements into their respective buckets\n",
        "    index=int(j*10)\n",
        "    bucket[index].append(j)\n",
        "  for i in range(len(a)):       # Sort the elements of each bucket\n",
        "    bucket[i]=sorted(bucket[i])\n",
        "  k=0\n",
        "  for i in range(len(a)):\n",
        "    for j in range(len(bucket[i])):\n",
        "      a[k]=bucket[i][j]\n",
        "      k+=1\n",
        "  return a\n",
        "a=[0.24, 0.40, 0.11, 0.18, 0.33, 0.12, 0.39, 0.29, 0.30,  0.34]\n",
        "print(f'Before Sorting:{a}')\n",
        "print(f'After Sorting:{bucket_sort(a)}')"
      ],
      "execution_count": null,
      "outputs": [
        {
          "output_type": "stream",
          "text": [
            "Before Sorting:[0.24, 0.4, 0.11, 0.18, 0.33, 0.12, 0.39, 0.29, 0.3, 0.34]\n",
            "After Sorting:[0.11, 0.12, 0.18, 0.24, 0.29, 0.3, 0.33, 0.34, 0.39, 0.4]\n"
          ],
          "name": "stdout"
        }
      ]
    },
    {
      "cell_type": "code",
      "metadata": {
        "colab": {
          "base_uri": "https://localhost:8080/"
        },
        "id": "mlU7z0Zr-HBF",
        "outputId": "585d3c76-e2e7-4e6d-8025-8e10b3e3729a"
      },
      "source": [
        "#heap sort  \n",
        "# To heapify subtree rooted at index i.\n",
        "# n is size of heap\n",
        "def heapify(a,n,i):\n",
        "  largest=i               #Find largest among root and children\n",
        "  left=2*i+1\n",
        "  right=2*i+2\n",
        "  if left<n and a[i]<a[left]:\n",
        "    largest=left\n",
        "  if right<n and a[largest]<a[right]:\n",
        "    largest=right\n",
        "  if largest!=i:          #If root is not largest, swap with largest and continue heapifying\n",
        "    a[i],a[largest]=a[largest],a[i]\n",
        "    heapify(a,n,largest)\n",
        "def heap_sort(a):         # Build max heap\n",
        "  n=len(a)\n",
        "  for i in range(n//2,-1,-1):\n",
        "    heapify(a,n,i)              \n",
        "  for i in range(n-1,0,-1):\n",
        "    a[i],a[0]=a[0],a[i]       #swap the root and leaf elements because the heap is sorted in descending order\n",
        "    heapify(a,i,0)            #heapify\n",
        "np.random.seed()\n",
        "a=np.random.randint(1,50,10)\n",
        "print(f'Before Sorting:{a}')\n",
        "heap_sort(a)\n",
        "print('After Sorting:',end='')\n",
        "for i in range(len(a)):\n",
        "  print(f'{a[i]} ',end='')"
      ],
      "execution_count": null,
      "outputs": [
        {
          "output_type": "stream",
          "text": [
            "Before Sorting:[41 31 36 24 26 31 39 21 12 31]\n",
            "After Sorting:12 21 24 26 31 31 31 36 39 41 "
          ],
          "name": "stdout"
        }
      ]
    },
    {
      "cell_type": "code",
      "metadata": {
        "colab": {
          "base_uri": "https://localhost:8080/"
        },
        "id": "VjzTP0CZagSe",
        "outputId": "32ee5adf-7333-4fbc-ae29-8be4c1ac4873"
      },
      "source": [
        "#counting sort\n",
        "def counting_sort(a):\n",
        "  size=len(a)\n",
        "  output=[0]*size             #initailize two arrays with '0' as elements of recommended\n",
        "  count=[0]*10\n",
        "  for i in range(0,size):     #storing the number of counts of repeated elements from array 'a' to count array\n",
        "    count[a[i]]+=1\n",
        "  for i in range(1,10):       #storing the cumilative count\n",
        "    count[i]+=count[i-1]\n",
        "  i=size-1\n",
        "  while i>=0:\n",
        "    output[count[a[i]]-1]=a[i]    # Find the index of each element of the original array in count array\n",
        "    count[a[i]]-=1                   #and place the elements in output array\n",
        "    i=i-1\n",
        "  for i in range(0,size):         # Copy the sorted elements into original array\n",
        "    a[i]=output[i]\n",
        "np.random.seed()\n",
        "a=np.random.randint(0,10,10)\n",
        "print(f'Before Sorting:{a}')\n",
        "counting_sort(a)\n",
        "print(f'After Sorting:{a}',end='')"
      ],
      "execution_count": null,
      "outputs": [
        {
          "output_type": "stream",
          "text": [
            "Before Sorting:[6 1 6 6 1 7 2 1 9 2]\n",
            "After Sorting:[1 1 1 2 2 6 6 6 7 9]"
          ],
          "name": "stdout"
        }
      ]
    },
    {
      "cell_type": "code",
      "metadata": {
        "colab": {
          "base_uri": "https://localhost:8080/"
        },
        "id": "Ka9bHdYqbwxY",
        "outputId": "f4fe92c2-7e35-4278-f829-8c2b45688118"
      },
      "source": [
        "#radix sort\n",
        "# Using counting sort to sort the elements in the basis of significant places\n",
        "def counting_sort(a,p):\n",
        "  size,l=len(a),[]\n",
        "  for i in range(size):     #To find the length of the count array\n",
        "    l.append(a[i]//10)\n",
        "  count=[0]*max(l)\n",
        "  output=[0]*size\n",
        "  # Calculate count of elements\n",
        "  for i in range(size):\n",
        "    index=a[i]//p\n",
        "    count[index%10]+=1\n",
        "  # Calculate cumulative count\n",
        "  for i in range(1,10):\n",
        "    count[i]+=count[i-1]\n",
        "   # Place the elements in sorted order\n",
        "  i=size-1\n",
        "  while i>=0:\n",
        "    index=a[i]//p\n",
        "    output[count[index%10]-1]=a[i]\n",
        "    count[index%10]-=1\n",
        "    i-=1\n",
        "  for i in range(size):\n",
        "    a[i]=output[i]\n",
        "def radix_sort(a):\n",
        "  maximum=max(a)\n",
        "  p=1\n",
        "  while maximum//p>0:\n",
        "    counting_sort(a,p)\n",
        "    p*=10\n",
        "  return a\n",
        "np.random.seed()\n",
        "a=np.random.randint(1,1000,10)\n",
        "print(f'Before Sorting:{a}')\n",
        "print(f'After sorting:{radix_sort(a)}')"
      ],
      "execution_count": null,
      "outputs": [
        {
          "output_type": "stream",
          "text": [
            "Before Sorting:[476 713   9 217 939 268 169 388 717 461]\n",
            "After sorting:[  9 169 217 268 388 461 476 713 717 939]\n"
          ],
          "name": "stdout"
        }
      ]
    },
    {
      "cell_type": "code",
      "metadata": {
        "colab": {
          "base_uri": "https://localhost:8080/"
        },
        "id": "YkBQMSxc9yJl",
        "outputId": "9402d7cf-bbee-4535-ca6a-9c37db1ba621"
      },
      "source": [
        "#linear search(unordered series)\n",
        "def linear_search(a,key):\n",
        "  for i in range(0,len(a)):\n",
        "    if key==a[i]:\n",
        "      return i\n",
        "  return -1\n",
        "np.random.seed()\n",
        "a=np.random.randint(1,50,10)\n",
        "print(f'Series:{a}')\n",
        "key=int(input('Enter a number to search from the above series:'))\n",
        "res=linear_search(a,key)\n",
        "if res==-1:\n",
        "  print('The number is not present in the series')\n",
        "else:\n",
        "  print(f'The number is present at index {res}')"
      ],
      "execution_count": null,
      "outputs": [
        {
          "output_type": "stream",
          "text": [
            "Series:[46 44 15 15 34 49 15 49  1 41]\n",
            "Enter a number to search from the above series:34\n",
            "The number is present at index 4\n"
          ],
          "name": "stdout"
        }
      ]
    },
    {
      "cell_type": "code",
      "metadata": {
        "colab": {
          "base_uri": "https://localhost:8080/"
        },
        "id": "IWfjz-JWm0m7",
        "outputId": "a763e7fe-7772-41ca-cfae-d60212a2283d"
      },
      "source": [
        "#linear search(ordered series)\n",
        "def linear_search(a,key):\n",
        "  for i in range(0,len(a)):\n",
        "    if key==a[i]:\n",
        "      return i\n",
        "  return -1\n",
        "np.random.seed()\n",
        "a=np.random.randint(1,50,10)\n",
        "a=sorted(a)\n",
        "print(f'Series:{a}')\n",
        "key=int(input('Enter a number to search from the above series:'))\n",
        "res=linear_search(a,key)\n",
        "if res==-1:\n",
        "  print('The number is not present in the series')\n",
        "else:\n",
        "  print(f'The number is present at index {res}')"
      ],
      "execution_count": null,
      "outputs": [
        {
          "output_type": "stream",
          "text": [
            "Series:[8, 13, 13, 15, 15, 27, 29, 30, 35, 44]\n",
            "Enter a number to search from the above series:27\n",
            "The number is present at index 5\n"
          ],
          "name": "stdout"
        }
      ]
    },
    {
      "cell_type": "code",
      "metadata": {
        "colab": {
          "base_uri": "https://localhost:8080/"
        },
        "id": "wFrNHHE-6jXc",
        "outputId": "7c9c26ff-ccec-43b8-d90f-2dabe63921fa"
      },
      "source": [
        "#binary search(Iterative method)\n",
        "def binary_search(a,key):\n",
        "  low = 0\n",
        "  high = len(a) - 1\n",
        "  while low<=high:\n",
        "    mid=(low+high)//2\n",
        "    if a[mid]==key:\n",
        "      return mid\n",
        "    elif key<a[mid]:\n",
        "      high=mid-1\n",
        "    else:\n",
        "      low=mid+1\n",
        "  return -1  \n",
        "np.random.seed()\n",
        "a=np.random.randint(1,50,10)\n",
        "print(f'Before Sorting:{a}')\n",
        "print(f'The elements of array are:{a}')\n",
        "key=int(input('Enter a number to search from the above series:'))\n",
        "res=binary_search(a,key)\n",
        "if res==-1:\n",
        "  print('The number is not present in the series')\n",
        "else:\n",
        "  print(f'The number is present at index {res}')"
      ],
      "execution_count": null,
      "outputs": [
        {
          "output_type": "stream",
          "text": [
            "Before Sorting:[49 41 12 47 48 18 39 46 43 25]\n",
            "The elements of array are:[49 41 12 47 48 18 39 46 43 25]\n",
            "Enter a number to search from the above series:47\n",
            "The number is present at index 3\n"
          ],
          "name": "stdout"
        }
      ]
    },
    {
      "cell_type": "code",
      "metadata": {
        "id": "ytpBJpIt9swD",
        "colab": {
          "base_uri": "https://localhost:8080/"
        },
        "outputId": "bdffe53e-f55b-445c-c31a-a89115bb3cd7"
      },
      "source": [
        "#binary search(Recursive method)\n",
        "def binary_search(a,low,high,key):\n",
        "  while low<=high:\n",
        "    mid=(low+high)//2\n",
        "    if a[mid]==key:\n",
        "      return mid\n",
        "    elif key<a[mid]:\n",
        "      return binary_search(a,low,mid-1,key)\n",
        "    else:\n",
        "      return binary_search(a,mid+1,high,key) \n",
        "  return -1  \n",
        "np.random.seed()\n",
        "a=np.random.randint(1,50,10)\n",
        "print(f'Before Sorting:{a}')\n",
        "a=sorted(a)\n",
        "print(f'After sorting the elements of array are:{a}')\n",
        "key=int(input('Enter a number to search from the above series:'))\n",
        "low=0\n",
        "high=len(a)-1\n",
        "res=binary_search(a,low,high,key)\n",
        "if res==-1:\n",
        "  print('The number is not present in the series')\n",
        "else:\n",
        "  print(f'The number is present at index {res}')"
      ],
      "execution_count": null,
      "outputs": [
        {
          "output_type": "stream",
          "text": [
            "Before Sorting:[27 21 23 13 49 36 21 36 48 33]\n",
            "After sorting the elements of array are:[13, 21, 21, 23, 27, 33, 36, 36, 48, 49]\n",
            "Enter a number to search from the above series:21\n",
            "The number is present at index 1\n"
          ],
          "name": "stdout"
        }
      ]
    },
    {
      "cell_type": "code",
      "metadata": {
        "id": "9EurIS0tfbDl",
        "colab": {
          "base_uri": "https://localhost:8080/"
        },
        "outputId": "820e7303-049e-47da-c9a9-75ff2f7499bf"
      },
      "source": [
        "#create a node\n",
        "class SLNode:\n",
        "  def __init__(self,data):\n",
        "    self.data=data\n",
        "    self.next=None\n",
        "\n",
        "#Link the nodes\n",
        "class SLL:\n",
        "  def __init__(self):\n",
        "    self.head=None\n",
        "\n",
        "  def display(self):\n",
        "    if self.head is None:\n",
        "      print('SLL is empty!')\n",
        "    else:\n",
        "      temp = self.head\n",
        "      while temp:\n",
        "        print(temp.data)\n",
        "        temp = temp.next\n",
        "List = SLL()\n",
        "node1 = SLNode(10)\n",
        "List.head = node1\n",
        "node2 = SLNode(20)\n",
        "node1.next = node2\n",
        "List.display()"
      ],
      "execution_count": null,
      "outputs": [
        {
          "output_type": "stream",
          "text": [
            "10\n",
            "20\n"
          ],
          "name": "stdout"
        }
      ]
    },
    {
      "cell_type": "code",
      "metadata": {
        "id": "3Myn8fs6R1s2"
      },
      "source": [
        ""
      ],
      "execution_count": null,
      "outputs": []
    }
  ]
}